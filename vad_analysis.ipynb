{
 "cells": [
  {
   "cell_type": "markdown",
   "id": "0e0e1b89-f446-4def-b16a-76cb56bc4e57",
   "metadata": {
    "tags": []
   },
   "source": [
    "# les analyses sur les ventes à découvert (VAD)"
   ]
  },
  {
   "cell_type": "markdown",
   "id": "877d1ff5-8766-4088-8c9a-ff024ced5c9c",
   "metadata": {},
   "source": [
    "## Install pip packages in the current Jupyter kernel"
   ]
  },
  {
   "cell_type": "code",
   "execution_count": 1,
   "id": "08c565ea-9509-4b67-832c-0be4af5a195f",
   "metadata": {
    "tags": []
   },
   "outputs": [
    {
     "name": "stdout",
     "output_type": "stream",
     "text": [
      "Requirement already satisfied: matplotlib==3.8.3 in /Users/ruijinghu/.local/share/virtualenvs/vad_analysis-w4D06N5W/lib/python3.10/site-packages (3.8.3)\n",
      "Requirement already satisfied: pandas==2.2.1 in /Users/ruijinghu/.local/share/virtualenvs/vad_analysis-w4D06N5W/lib/python3.10/site-packages (2.2.1)\n",
      "Requirement already satisfied: contourpy>=1.0.1 in /Users/ruijinghu/.local/share/virtualenvs/vad_analysis-w4D06N5W/lib/python3.10/site-packages (from matplotlib==3.8.3) (1.2.0)\n",
      "Requirement already satisfied: cycler>=0.10 in /Users/ruijinghu/.local/share/virtualenvs/vad_analysis-w4D06N5W/lib/python3.10/site-packages (from matplotlib==3.8.3) (0.12.1)\n",
      "Requirement already satisfied: fonttools>=4.22.0 in /Users/ruijinghu/.local/share/virtualenvs/vad_analysis-w4D06N5W/lib/python3.10/site-packages (from matplotlib==3.8.3) (4.50.0)\n",
      "Requirement already satisfied: kiwisolver>=1.3.1 in /Users/ruijinghu/.local/share/virtualenvs/vad_analysis-w4D06N5W/lib/python3.10/site-packages (from matplotlib==3.8.3) (1.4.5)\n",
      "Requirement already satisfied: numpy<2,>=1.21 in /Users/ruijinghu/.local/share/virtualenvs/vad_analysis-w4D06N5W/lib/python3.10/site-packages (from matplotlib==3.8.3) (1.26.4)\n",
      "Requirement already satisfied: packaging>=20.0 in /Users/ruijinghu/.local/share/virtualenvs/vad_analysis-w4D06N5W/lib/python3.10/site-packages (from matplotlib==3.8.3) (24.0)\n",
      "Requirement already satisfied: pillow>=8 in /Users/ruijinghu/.local/share/virtualenvs/vad_analysis-w4D06N5W/lib/python3.10/site-packages (from matplotlib==3.8.3) (10.2.0)\n",
      "Requirement already satisfied: pyparsing>=2.3.1 in /Users/ruijinghu/.local/share/virtualenvs/vad_analysis-w4D06N5W/lib/python3.10/site-packages (from matplotlib==3.8.3) (3.1.2)\n",
      "Requirement already satisfied: python-dateutil>=2.7 in /Users/ruijinghu/.local/share/virtualenvs/vad_analysis-w4D06N5W/lib/python3.10/site-packages (from matplotlib==3.8.3) (2.9.0.post0)\n",
      "Requirement already satisfied: pytz>=2020.1 in /Users/ruijinghu/.local/share/virtualenvs/vad_analysis-w4D06N5W/lib/python3.10/site-packages (from pandas==2.2.1) (2024.1)\n",
      "Requirement already satisfied: tzdata>=2022.7 in /Users/ruijinghu/.local/share/virtualenvs/vad_analysis-w4D06N5W/lib/python3.10/site-packages (from pandas==2.2.1) (2024.1)\n",
      "Requirement already satisfied: six>=1.5 in /Users/ruijinghu/.local/share/virtualenvs/vad_analysis-w4D06N5W/lib/python3.10/site-packages (from python-dateutil>=2.7->matplotlib==3.8.3) (1.16.0)\n",
      "\n",
      "\u001b[1m[\u001b[0m\u001b[34;49mnotice\u001b[0m\u001b[1;39;49m]\u001b[0m\u001b[39;49m A new release of pip is available: \u001b[0m\u001b[31;49m23.3.2\u001b[0m\u001b[39;49m -> \u001b[0m\u001b[32;49m24.0\u001b[0m\n",
      "\u001b[1m[\u001b[0m\u001b[34;49mnotice\u001b[0m\u001b[1;39;49m]\u001b[0m\u001b[39;49m To update, run: \u001b[0m\u001b[32;49mpip install --upgrade pip\u001b[0m\n",
      "Name: matplotlib\n",
      "Version: 3.8.3\n",
      "Summary: Python plotting package\n",
      "Home-page: https://matplotlib.org\n",
      "Author: John D. Hunter, Michael Droettboom\n",
      "Author-email: matplotlib-users@python.org\n",
      "License: PSF\n",
      "Location: /Users/ruijinghu/.local/share/virtualenvs/vad_analysis-w4D06N5W/lib/python3.10/site-packages\n",
      "Requires: contourpy, cycler, fonttools, kiwisolver, numpy, packaging, pillow, pyparsing, python-dateutil\n",
      "Required-by: \n",
      "---\n",
      "Name: pandas\n",
      "Version: 2.2.1\n",
      "Summary: Powerful data structures for data analysis, time series, and statistics\n",
      "Home-page: https://pandas.pydata.org\n",
      "Author: \n",
      "Author-email: The Pandas Development Team <pandas-dev@python.org>\n",
      "License: BSD 3-Clause License\n",
      "        \n",
      "        Copyright (c) 2008-2011, AQR Capital Management, LLC, Lambda Foundry, Inc. and PyData Development Team\n",
      "        All rights reserved.\n",
      "        \n",
      "        Copyright (c) 2011-2023, Open source contributors.\n",
      "        \n",
      "        Redistribution and use in source and binary forms, with or without\n",
      "        modification, are permitted provided that the following conditions are met:\n",
      "        \n",
      "        * Redistributions of source code must retain the above copyright notice, this\n",
      "          list of conditions and the following disclaimer.\n",
      "        \n",
      "        * Redistributions in binary form must reproduce the above copyright notice,\n",
      "          this list of conditions and the following disclaimer in the documentation\n",
      "          and/or other materials provided with the distribution.\n",
      "        \n",
      "        * Neither the name of the copyright holder nor the names of its\n",
      "          contributors may be used to endorse or promote products derived from\n",
      "          this software without specific prior written permission.\n",
      "        \n",
      "        THIS SOFTWARE IS PROVIDED BY THE COPYRIGHT HOLDERS AND CONTRIBUTORS \"AS IS\"\n",
      "        AND ANY EXPRESS OR IMPLIED WARRANTIES, INCLUDING, BUT NOT LIMITED TO, THE\n",
      "        IMPLIED WARRANTIES OF MERCHANTABILITY AND FITNESS FOR A PARTICULAR PURPOSE ARE\n",
      "        DISCLAIMED. IN NO EVENT SHALL THE COPYRIGHT HOLDER OR CONTRIBUTORS BE LIABLE\n",
      "        FOR ANY DIRECT, INDIRECT, INCIDENTAL, SPECIAL, EXEMPLARY, OR CONSEQUENTIAL\n",
      "        DAMAGES (INCLUDING, BUT NOT LIMITED TO, PROCUREMENT OF SUBSTITUTE GOODS OR\n",
      "        SERVICES; LOSS OF USE, DATA, OR PROFITS; OR BUSINESS INTERRUPTION) HOWEVER\n",
      "        CAUSED AND ON ANY THEORY OF LIABILITY, WHETHER IN CONTRACT, STRICT LIABILITY,\n",
      "        OR TORT (INCLUDING NEGLIGENCE OR OTHERWISE) ARISING IN ANY WAY OUT OF THE USE\n",
      "        OF THIS SOFTWARE, EVEN IF ADVISED OF THE POSSIBILITY OF SUCH DAMAGE.\n",
      "Location: /Users/ruijinghu/.local/share/virtualenvs/vad_analysis-w4D06N5W/lib/python3.10/site-packages\n",
      "Requires: numpy, python-dateutil, pytz, tzdata\n",
      "Required-by: \n"
     ]
    }
   ],
   "source": [
    "import sys\n",
    "!{sys.executable} -m pip install matplotlib==3.8.3 pandas==2.2.1 \n",
    "!{sys.executable} -m pip show matplotlib pandas"
   ]
  },
  {
   "cell_type": "code",
   "execution_count": 2,
   "id": "80b0369c-a5d8-4347-b2a4-d850495499f0",
   "metadata": {
    "tags": []
   },
   "outputs": [],
   "source": [
    "import pandas as pd\n",
    "import matplotlib.pyplot as plt"
   ]
  },
  {
   "cell_type": "markdown",
   "id": "2e694aae-9623-4ce1-b1a5-6ad02d7b25d2",
   "metadata": {},
   "source": [
    "## Load the CSV file into a DataFrame"
   ]
  },
  {
   "cell_type": "code",
   "execution_count": 3,
   "id": "1ba437ad-b970-4f4b-ab27-c5d10d4d341e",
   "metadata": {
    "tags": []
   },
   "outputs": [
    {
     "name": "stdout",
     "output_type": "stream",
     "text": [
      "Index(['Detenteur de la position courte nette',\n",
      "       'Legal Entity Identifier detenteur', 'Emetteur / issuer', 'Ratio',\n",
      "       'code ISIN', 'Date de debut position',\n",
      "       'Date de debut de publication position',\n",
      "       'Date de fin de publication position'],\n",
      "      dtype='object')\n"
     ]
    }
   ],
   "source": [
    "report_name  = 'export_od_vad_20240315111500_20240315123000.csv'\n",
    "df = pd.read_csv(report_name, sep=\";\")\n",
    "print(df.columns)"
   ]
  },
  {
   "cell_type": "code",
   "execution_count": 4,
   "id": "57bd0df9-40e4-4c6c-8a0f-9d624a2eff4b",
   "metadata": {
    "tags": []
   },
   "outputs": [],
   "source": [
    "class Flds:\n",
    "    HOLDER: str = 'Detenteur de la position courte nette'\n",
    "    LEID: str = 'Legal Entity Identifier detenteur'\n",
    "    ISSU: str = 'Emetteur / issuer'\n",
    "    RAT: str = 'Ratio'\n",
    "    ISIN: str = 'code ISIN'\n",
    "    POS_DAT: str = 'Date de debut position'\n",
    "    PUB_BEG_DAT: str = 'Date de debut de publication position'\n",
    "    PUB_END_DAT: str = 'Date de fin de publication position'\n",
    "    \n",
    "    # new\n",
    "    DURATION: str = 'Duration'"
   ]
  },
  {
   "cell_type": "code",
   "execution_count": 5,
   "id": "30715617-18b1-4625-b4ea-1a08ca74064e",
   "metadata": {
    "tags": []
   },
   "outputs": [
    {
     "name": "stdout",
     "output_type": "stream",
     "text": [
      "Detenteur de la position courte nette            object\n",
      "Legal Entity Identifier detenteur                object\n",
      "Emetteur / issuer                                object\n",
      "Ratio                                           float64\n",
      "code ISIN                                        object\n",
      "Date de debut position                   datetime64[ns]\n",
      "Date de debut de publication position    datetime64[ns]\n",
      "Date de fin de publication position      datetime64[ns]\n",
      "dtype: object\n"
     ]
    }
   ],
   "source": [
    "# dates converstion\n",
    "for col in [Flds.POS_DAT, Flds.PUB_BEG_DAT, Flds.PUB_END_DAT]:\n",
    "    df[col] = pd.to_datetime(df[col], format='%Y-%m-%d')\n",
    "# floats conversion\n",
    "for col in [Flds.RAT]:\n",
    "    df[col] = df[col].astype(float)\n",
    "print(df.dtypes)"
   ]
  },
  {
   "cell_type": "markdown",
   "id": "558dc858-27a6-4051-86cb-38ab7cf5afcf",
   "metadata": {},
   "source": [
    "## Analysis"
   ]
  },
  {
   "cell_type": "markdown",
   "id": "21a8b2db-6c4f-4b39-803b-04aabac4b783",
   "metadata": {
    "tags": []
   },
   "source": [
    "### How many short position holders are listed in the dataframe?"
   ]
  },
  {
   "cell_type": "code",
   "execution_count": 6,
   "id": "51e5015a-4c8b-459a-8fa4-4cf203ac1e37",
   "metadata": {
    "tags": []
   },
   "outputs": [
    {
     "name": "stdout",
     "output_type": "stream",
     "text": [
      "Number of short position holders: 346\n"
     ]
    }
   ],
   "source": [
    "num_short_position_holders = df[Flds.HOLDER].nunique()\n",
    "print(\"Number of short position holders:\", num_short_position_holders)"
   ]
  },
  {
   "cell_type": "markdown",
   "id": "f9a48418-c164-4cc7-8178-c5a03a1807aa",
   "metadata": {
    "tags": []
   },
   "source": [
    "### Who are the top 5 holders with the largest total sum of open short positions?"
   ]
  },
  {
   "cell_type": "code",
   "execution_count": 7,
   "id": "40951d64-ed01-4eef-95c0-9357ca0d94d2",
   "metadata": {
    "tags": []
   },
   "outputs": [
    {
     "name": "stdout",
     "output_type": "stream",
     "text": [
      "Top 5 holders with largest total sum of open short positions:\n",
      "Detenteur de la position courte nette\n",
      "MARSHALL WACE LLP                               5876.52\n",
      "AQR CAPITAL MANAGEMENT, LLC                     2391.57\n",
      "CITADEL EUROPE LLP                              1289.52\n",
      "CITADEL ADVISORS LLC                            1186.14\n",
      "BLACKROCK INVESTMENT MANAGEMENT (UK) LIMITED    1128.45\n",
      "Name: Ratio, dtype: float64\n"
     ]
    }
   ],
   "source": [
    "# supposing that total shares outstanding of every issuer is the same, since the entry source does not give the enough information\n",
    "top_5_holders = df.groupby(Flds.HOLDER)[Flds.RAT].sum().nlargest(5)\n",
    "print(\"Top 5 holders with largest total sum of open short positions:\")\n",
    "print(top_5_holders)"
   ]
  },
  {
   "cell_type": "markdown",
   "id": "1942de06-d0bf-43c8-bfa1-958e5e2046bc",
   "metadata": {
    "tags": []
   },
   "source": [
    "### Which are the top 5 issuers with the highest median ratios?"
   ]
  },
  {
   "cell_type": "code",
   "execution_count": 8,
   "id": "483ff551-f7ea-4f3f-96b4-3cebd0a28b23",
   "metadata": {
    "tags": []
   },
   "outputs": [
    {
     "name": "stdout",
     "output_type": "stream",
     "text": [
      "Top 5 issuers with highest median ratios:\n",
      "Emetteur / issuer\n",
      "PIERRE ET VACANCES           1.645\n",
      "MEDIAWAN                     1.480\n",
      "GAZTRANSPORT ET TECHNIGAZ    1.240\n",
      "EOS IMAGING                  1.110\n",
      "INGENICO GROUP               1.030\n",
      "Name: Ratio, dtype: float64\n"
     ]
    }
   ],
   "source": [
    "top_5_issuers = df.groupby(Flds.ISSU)[Flds.RAT].median().nlargest(5)\n",
    "print(\"Top 5 issuers with highest median ratios:\")\n",
    "print(top_5_issuers)"
   ]
  },
  {
   "cell_type": "markdown",
   "id": "afa21905-aef3-428b-838b-93b7c970e354",
   "metadata": {
    "tags": []
   },
   "source": [
    "### What is the maximum number of days that a short position can be held? Which issuer is involved? Who is dedicating this position? Ditto for the shortest duration."
   ]
  },
  {
   "cell_type": "code",
   "execution_count": 9,
   "id": "7877d4b5-0a0b-4956-8c3c-126b5f1222a4",
   "metadata": {
    "tags": []
   },
   "outputs": [
    {
     "name": "stdout",
     "output_type": "stream",
     "text": [
      "Maximum duration of short position: 2576 days 00:00:00\n",
      "Issuer involved in maximum duration: REMY COINTREAU\n",
      "Holder dedicating the position for maximum duration: AQR CAPITAL MANAGEMENT, LLC\n",
      "Minimum duration of short position: -59 days +00:00:00\n",
      "Issuer involved in minimum duration: AIR FRANCE-KLM\n",
      "Holder dedicating the position for minimum duration: LONE PINE CAPITAL LLC\n"
     ]
    }
   ],
   "source": [
    "df[Flds.DURATION] = df[Flds.PUB_END_DAT] - df[Flds.PUB_BEG_DAT]\n",
    "max_duration = df[Flds.DURATION].max()\n",
    "min_duration = df[Flds.DURATION].min()\n",
    "max_duration_info = df[df[Flds.DURATION] == max_duration]\n",
    "min_duration_info = df[df[Flds.DURATION] == min_duration]\n",
    "print(\"Maximum duration of short position:\", max_duration)\n",
    "print(\"Issuer involved in maximum duration:\", '|'.join(max_duration_info[Flds.ISSU].unique()))\n",
    "print(\"Holder dedicating the position for maximum duration:\", '|'.join(max_duration_info[Flds.HOLDER].unique()))\n",
    "print(\"Minimum duration of short position:\", min_duration)\n",
    "print(\"Issuer involved in minimum duration:\", '|'.join(min_duration_info[Flds.ISSU].unique()))\n",
    "print(\"Holder dedicating the position for minimum duration:\", '|'.join(min_duration_info[Flds.HOLDER].unique()))"
   ]
  },
  {
   "cell_type": "code",
   "execution_count": 10,
   "id": "f0c56f83-355d-43e8-8602-a4fb51f40289",
   "metadata": {
    "tags": []
   },
   "outputs": [
    {
     "data": {
      "text/html": [
       "<div>\n",
       "<style scoped>\n",
       "    .dataframe tbody tr th:only-of-type {\n",
       "        vertical-align: middle;\n",
       "    }\n",
       "\n",
       "    .dataframe tbody tr th {\n",
       "        vertical-align: top;\n",
       "    }\n",
       "\n",
       "    .dataframe thead th {\n",
       "        text-align: right;\n",
       "    }\n",
       "</style>\n",
       "<table border=\"1\" class=\"dataframe\">\n",
       "  <thead>\n",
       "    <tr style=\"text-align: right;\">\n",
       "      <th></th>\n",
       "      <th>Detenteur de la position courte nette</th>\n",
       "      <th>Legal Entity Identifier detenteur</th>\n",
       "      <th>Emetteur / issuer</th>\n",
       "      <th>Ratio</th>\n",
       "      <th>code ISIN</th>\n",
       "      <th>Date de debut position</th>\n",
       "      <th>Date de debut de publication position</th>\n",
       "      <th>Date de fin de publication position</th>\n",
       "      <th>Duration</th>\n",
       "    </tr>\n",
       "  </thead>\n",
       "  <tbody>\n",
       "    <tr>\n",
       "      <th>2141</th>\n",
       "      <td>AQR CAPITAL MANAGEMENT, LLC</td>\n",
       "      <td>549300GC5MDF1KXYMP06</td>\n",
       "      <td>REMY COINTREAU</td>\n",
       "      <td>0.50</td>\n",
       "      <td>FR0000130395</td>\n",
       "      <td>2014-01-29</td>\n",
       "      <td>2014-01-30</td>\n",
       "      <td>2021-02-18</td>\n",
       "      <td>2576 days</td>\n",
       "    </tr>\n",
       "    <tr>\n",
       "      <th>14983</th>\n",
       "      <td>LONE PINE CAPITAL LLC</td>\n",
       "      <td>Y64HK18CMXIV6KGY3S63</td>\n",
       "      <td>AIR FRANCE-KLM</td>\n",
       "      <td>0.79</td>\n",
       "      <td>FR0000031122</td>\n",
       "      <td>2012-10-31</td>\n",
       "      <td>2013-01-04</td>\n",
       "      <td>2012-11-06</td>\n",
       "      <td>-59 days</td>\n",
       "    </tr>\n",
       "  </tbody>\n",
       "</table>\n",
       "</div>"
      ],
      "text/plain": [
       "      Detenteur de la position courte nette Legal Entity Identifier detenteur  \\\n",
       "2141            AQR CAPITAL MANAGEMENT, LLC              549300GC5MDF1KXYMP06   \n",
       "14983                 LONE PINE CAPITAL LLC              Y64HK18CMXIV6KGY3S63   \n",
       "\n",
       "      Emetteur / issuer  Ratio     code ISIN Date de debut position  \\\n",
       "2141     REMY COINTREAU   0.50  FR0000130395             2014-01-29   \n",
       "14983    AIR FRANCE-KLM   0.79  FR0000031122             2012-10-31   \n",
       "\n",
       "      Date de debut de publication position  \\\n",
       "2141                             2014-01-30   \n",
       "14983                            2013-01-04   \n",
       "\n",
       "      Date de fin de publication position  Duration  \n",
       "2141                           2021-02-18 2576 days  \n",
       "14983                          2012-11-06  -59 days  "
      ]
     },
     "execution_count": 10,
     "metadata": {},
     "output_type": "execute_result"
    }
   ],
   "source": [
    "df[df[Flds.DURATION].isin([min_duration, max_duration])]"
   ]
  },
  {
   "cell_type": "markdown",
   "id": "641e83c9-7532-412a-a0b3-a8b3dcc8d94b",
   "metadata": {},
   "source": [
    "#### It is anormal to have negative duration for a position. I analyze two cases"
   ]
  },
  {
   "cell_type": "markdown",
   "id": "12697212-b6bb-4672-8cb9-1786d2bfd23c",
   "metadata": {},
   "source": [
    "#### I analyze the non negative duration:"
   ]
  },
  {
   "cell_type": "code",
   "execution_count": 11,
   "id": "4662f040-1b62-452d-b681-768fb5a9f58e",
   "metadata": {
    "tags": []
   },
   "outputs": [
    {
     "name": "stdout",
     "output_type": "stream",
     "text": [
      "Maximum duration of short position: 2576 days 00:00:00\n",
      "Issuer involved in maximum duration: REMY COINTREAU\n",
      "Holder dedicating the position for maximum duration: AQR CAPITAL MANAGEMENT, LLC\n",
      "Minimum duration of short position: 0 days 00:00:00\n",
      "Issuer involved in minimum duration: EUROFINS SCIENTIFIC SE|CGG|JCDECAUX SE|VALLOUREC\n",
      "Holder dedicating the position for minimum duration: Coltrane Master Fund, L.P.|MARSHALL WACE LLP|NAYA CAPITAL MANAGEMENT UK LIMITED|WORLDQUANT, LLC\n"
     ]
    }
   ],
   "source": [
    "df_b = df.copy()\n",
    "df_b = df_b.loc[df_b[Flds.DURATION].dt.total_seconds()>=0]\n",
    "max_duration = df_b[Flds.DURATION].max()\n",
    "min_duration = df_b[Flds.DURATION].min()\n",
    "max_duration_info = df_b[df_b[Flds.DURATION] == max_duration]\n",
    "min_duration_info = df_b[df_b[Flds.DURATION] == min_duration]\n",
    "print(\"Maximum duration of short position:\", max_duration)\n",
    "print(\"Issuer involved in maximum duration:\", '|'.join(max_duration_info[Flds.ISSU].unique()))\n",
    "print(\"Holder dedicating the position for maximum duration:\", '|'.join(max_duration_info[Flds.HOLDER].unique()))\n",
    "print(\"Minimum duration of short position:\", min_duration)\n",
    "print(\"Issuer involved in minimum duration:\", '|'.join(min_duration_info[Flds.ISSU].unique()))\n",
    "print(\"Holder dedicating the position for minimum duration:\", '|'.join(min_duration_info[Flds.HOLDER].unique()))"
   ]
  },
  {
   "cell_type": "markdown",
   "id": "6d0fdecd-cdb4-45d4-883e-b87d06e4f3ff",
   "metadata": {
    "tags": []
   },
   "source": [
    "#### I analyze if defining DURATION = Date de fin de publication position - Date de debut position"
   ]
  },
  {
   "cell_type": "code",
   "execution_count": 12,
   "id": "7ab936ac-b75e-427b-af04-a98733feb9b2",
   "metadata": {
    "tags": []
   },
   "outputs": [
    {
     "name": "stdout",
     "output_type": "stream",
     "text": [
      "Maximum duration of short position: 2577 days 00:00:00\n",
      "Issuer involved in maximum duration: REMY COINTREAU\n",
      "Holder dedicating the position for maximum duration: AQR CAPITAL MANAGEMENT, LLC\n",
      "Minimum duration of short position: 1 days 00:00:00\n",
      "Issuer involved in minimum duration: ARKEMA|CASINO GUICHARD-PERRACHON|REXEL|SCOR SE|VALEO|VALLOUREC|SOLOCAL GROUP|DASSAULT SYSTEMES|GEMALTO NV|ETABLISSEMENTS MAUREL ET PROM|CGG|SOITEC|PEUGEOT S.A.|UBISOFT ENTERTAINMENT\n",
      "Holder dedicating the position for minimum duration: CITADEL EUROPE LLP|GLG Partners LP|GUEVOURA FUND LIMITED|HIGHFIELDS CAPITAL MANAGEMENT LP|HOPLITE CAPITAL MANAGEMENT, L.P.|LEDBURY CAPITAL PARTNERS LLP|Magnolia Road Capital LP|Numeric Investors LLC|PENTWATER CAPITAL MANAGEMENT LP|SCGE MANAGEMENT, L.P.\n"
     ]
    }
   ],
   "source": [
    "df_a = df.copy()\n",
    "df_a[Flds.DURATION] = df_a[Flds.PUB_END_DAT] - df_a[Flds.POS_DAT]\n",
    "max_duration = df_a[Flds.DURATION].max()\n",
    "min_duration = df_a[Flds.DURATION].min()\n",
    "max_duration_info = df_a[df_a[Flds.DURATION] == max_duration]\n",
    "min_duration_info = df_a[df_a[Flds.DURATION] == min_duration]\n",
    "print(\"Maximum duration of short position:\", max_duration)\n",
    "print(\"Issuer involved in maximum duration:\", '|'.join(max_duration_info[Flds.ISSU].unique()))\n",
    "print(\"Holder dedicating the position for maximum duration:\", '|'.join(max_duration_info[Flds.HOLDER].unique()))\n",
    "print(\"Minimum duration of short position:\", min_duration)\n",
    "print(\"Issuer involved in minimum duration:\", '|'.join(min_duration_info[Flds.ISSU].unique()))\n",
    "print(\"Holder dedicating the position for minimum duration:\", '|'.join(min_duration_info[Flds.HOLDER].unique()))"
   ]
  },
  {
   "cell_type": "markdown",
   "id": "a4a403b6-2f1a-46f5-9051-d56a67472ee6",
   "metadata": {
    "tags": []
   },
   "source": [
    "### Show the histogram of ratios associated with AIR FRANCE-KLM."
   ]
  },
  {
   "cell_type": "code",
   "execution_count": 13,
   "id": "dfa4bc3b-e0c1-4ba7-b3a5-532129d46e7d",
   "metadata": {
    "tags": []
   },
   "outputs": [
    {
     "name": "stdout",
     "output_type": "stream",
     "text": [
      "<class 'pandas.core.series.Series'>\n",
      "Index: 1939 entries, 164 to 30095\n",
      "Series name: Ratio\n",
      "Non-Null Count  Dtype  \n",
      "--------------  -----  \n",
      "1939 non-null   float64\n",
      "dtypes: float64(1)\n",
      "memory usage: 30.3 KB\n",
      "None\n"
     ]
    }
   ],
   "source": [
    "df_afk = df[df[Flds.ISSU] == 'AIR FRANCE-KLM']\n",
    "print(df_afk[Flds.RAT].info())"
   ]
  },
  {
   "cell_type": "code",
   "execution_count": 14,
   "id": "4caefddb-e4d2-4150-a6c0-6060a04536bb",
   "metadata": {},
   "outputs": [
    {
     "name": "stdout",
     "output_type": "stream",
     "text": [
      "count    1939.000000\n",
      "mean        1.163811\n",
      "std         0.720282\n",
      "min         0.000000\n",
      "25%         0.610000\n",
      "50%         0.910000\n",
      "75%         1.530000\n",
      "max         3.840000\n",
      "Name: Ratio, dtype: float64\n"
     ]
    }
   ],
   "source": [
    "print(df_afk[Flds.RAT].describe())"
   ]
  },
  {
   "cell_type": "code",
   "execution_count": 15,
   "id": "c93304db-e5d7-47ee-bf79-fc75a01de0f9",
   "metadata": {
    "tags": []
   },
   "outputs": [
    {
     "data": {
      "image/png": "[encoded data removed]",
      "text/plain": [
       "<Figure size 640x480 with 1 Axes>"
      ]
     },
     "metadata": {},
     "output_type": "display_data"
    }
   ],
   "source": [
    "df_afk[Flds.RAT].hist()\n",
    "plt.title('Histogram of Ratios Associated with AIR FRANCE-KLM')\n",
    "plt.xlabel('Ratio')\n",
    "plt.ylabel('Frequency')\n",
    "plt.show()"
   ]
  },
  {
   "cell_type": "markdown",
   "id": "59e3e7f9-3a3b-4139-b326-42b47d3c0d7b",
   "metadata": {},
   "source": [
    "### analysis"
   ]
  },
  {
   "cell_type": "code",
   "execution_count": 16,
   "id": "7ce66194-bdf8-415b-bd89-9f48505c0351",
   "metadata": {},
   "outputs": [
    {
     "data": {
      "image/png": "[encoded data removed]",
      "text/plain": [
       "<Figure size 640x480 with 1 Axes>"
      ]
     },
     "metadata": {},
     "output_type": "display_data"
    }
   ],
   "source": [
    "import numpy as np\n",
    "# Filter rows associated with AIR FRANCE-KLM\n",
    "air_france_klm_df = df[df[Flds.ISSU] == 'AIR FRANCE-KLM']\n",
    "data = air_france_klm_df['Ratio']\n",
    "# Compute quantiles\n",
    "quantiles = np.percentile(data, [25, 50, 75])\n",
    "\n",
    "# Plot histogram\n",
    "plt.hist(data, bins=30, density=True, alpha=0.5, color='skyblue')\n",
    "\n",
    "# Plot quantiles as vertical lines\n",
    "for q in quantiles:\n",
    "    plt.axvline(q, color='red', linestyle='--', linewidth=2)\n",
    "\n",
    "# Add legend and labels\n",
    "plt.legend(['25th percentile', '50th percentile (median)', '75th percentile', 'Data'])\n",
    "plt.xlabel('Value')\n",
    "plt.ylabel('Density')\n",
    "\n",
    "# box plot\n",
    "plt.boxplot(data, vert=False, notch=True)\n",
    "# Show plot\n",
    "plt.show()"
   ]
  },
  {
   "cell_type": "code",
   "execution_count": null,
   "id": "0db646ed-3d62-4f26-bd5e-71c4a84959e4",
   "metadata": {},
   "outputs": [],
   "source": []
  }
 ],
 "metadata": {
  "kernelspec": {
   "display_name": "Python 3 (ipykernel)",
   "language": "python",
   "name": "python3"
  },
  "language_info": {
   "codemirror_mode": {
    "name": "ipython",
    "version": 3
   },
   "file_extension": ".py",
   "mimetype": "text/x-python",
   "name": "python",
   "nbconvert_exporter": "python",
   "pygments_lexer": "ipython3",
   "version": "3.10.8"
  }
 },
 "nbformat": 4,
 "nbformat_minor": 5
}
